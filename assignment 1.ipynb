{
 "cells": [
  {
   "cell_type": "code",
   "execution_count": 1,
   "id": "38a674e3",
   "metadata": {},
   "outputs": [
    {
     "name": "stdout",
     "output_type": "stream",
     "text": [
      "Twinkle, twinkle, little star,\n",
      "\tHow I wonder what you are!\n",
      "\t \t Up above the world so high,\n",
      "\t \t Like a diamond in the sky.\n",
      "Twinkle, twinkle, little star,\n",
      "\tHow I wonder what you are\n"
     ]
    }
   ],
   "source": [
    "\"\"\"1. Write a Python program to print the following string in a specific format (see the output).\n",
    "Twinkle, twinkle, little star,\n",
    "     How I wonder what you are!\n",
    "            Up above the world so high,\n",
    "            Like a diamond in the sky.\n",
    "Twinkle, twinkle, little star,\n",
    "     How I wonder what you are\"\"\"\n",
    "\n",
    "print(\"Twinkle, twinkle, little star,\");\n",
    "print(\"\\tHow I wonder what you are!\");\n",
    "print(\"\\t \\t Up above the world so high,\");\n",
    "print(\"\\t \\t Like a diamond in the sky.\");\n",
    "print(\"Twinkle, twinkle, little star,\");\n",
    "print(\"\\tHow I wonder what you are\");"
   ]
  },
  {
   "cell_type": "code",
   "execution_count": 2,
   "id": "dd67628a",
   "metadata": {},
   "outputs": [
    {
     "name": "stdout",
     "output_type": "stream",
     "text": [
      "3.8.8 (default, Apr 13 2021, 15:08:03) [MSC v.1916 64 bit (AMD64)]\n"
     ]
    }
   ],
   "source": [
    "# 2. Write a Python program to get the Python version you are using\n",
    "\n",
    "import sys\n",
    "print(sys.version);"
   ]
  },
  {
   "cell_type": "code",
   "execution_count": 3,
   "id": "fe5ad4ac",
   "metadata": {},
   "outputs": [
    {
     "name": "stdout",
     "output_type": "stream",
     "text": [
      "Current date & time: \n",
      "2022-01-01 14:51:11.859281\n"
     ]
    }
   ],
   "source": [
    "# 3. Write a Python program to display the current date and time\n",
    "\n",
    "import datetime\n",
    "time_atm = datetime.datetime.now();\n",
    "print (\"Current date & time: \");\n",
    "print (time_atm)"
   ]
  },
  {
   "cell_type": "code",
   "execution_count": 4,
   "id": "9b95d605",
   "metadata": {},
   "outputs": [
    {
     "name": "stdout",
     "output_type": "stream",
     "text": [
      "Enter Radius of a Circle: 2.0\n",
      "Area Of A Circle is:  \n",
      "12.566\n"
     ]
    }
   ],
   "source": [
    "# 4. Write a Python program which accepts the radius of a circle from the user and compute the area\n",
    "\n",
    "pi = 3.1415;\n",
    "rad = float(input(\"Enter Radius of a Circle: \"))\n",
    "Area= pi*rad*rad;\n",
    "print(\"Area Of A Circle is:  \")\n",
    "print(Area)\n"
   ]
  },
  {
   "cell_type": "code",
   "execution_count": 5,
   "id": "f5d57271",
   "metadata": {},
   "outputs": [
    {
     "name": "stdout",
     "output_type": "stream",
     "text": [
      "Input your first name : Aisha\n",
      "Input your last name : Habib\n",
      "Habib Aisha\n"
     ]
    }
   ],
   "source": [
    "\"\"\"5. Write a Python program which accepts the user's first and last name and print them in\n",
    "reverse order with a space between them.\"\"\"\n",
    "\n",
    "fName = input(\"Input your first name : \");\n",
    "lName = input(\"Input your last name : \");\n",
    "print (lName +\" \"+ fName);"
   ]
  },
  {
   "cell_type": "code",
   "execution_count": 7,
   "id": "0b97171f",
   "metadata": {},
   "outputs": [
    {
     "name": "stdout",
     "output_type": "stream",
     "text": [
      "Enter the first no: 29\n",
      "Enter the second no: 18\n",
      "47\n"
     ]
    }
   ],
   "source": [
    "# 6. Write a python program which takes two inputs from user and print their addition\n",
    "\n",
    "a = int(input(\"Enter the first no: \"));\n",
    "b = int(input(\"Enter the second no: \"));\n",
    "sum = a+b;\n",
    "print(sum);"
   ]
  },
  {
   "cell_type": "code",
   "execution_count": null,
   "id": "a5faff06",
   "metadata": {},
   "outputs": [],
   "source": []
  }
 ],
 "metadata": {
  "kernelspec": {
   "display_name": "Python 3",
   "language": "python",
   "name": "python3"
  },
  "language_info": {
   "codemirror_mode": {
    "name": "ipython",
    "version": 3
   },
   "file_extension": ".py",
   "mimetype": "text/x-python",
   "name": "python",
   "nbconvert_exporter": "python",
   "pygments_lexer": "ipython3",
   "version": "3.8.8"
  }
 },
 "nbformat": 4,
 "nbformat_minor": 5
}
